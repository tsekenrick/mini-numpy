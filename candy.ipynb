{
 "cells": [
  {
   "cell_type": "code",
   "execution_count": 1,
   "metadata": {},
   "outputs": [
    {
     "name": "stdout",
     "output_type": "stream",
     "text": [
      "Last 4 Rows of Data: \n",
      "=========================\n",
      "                            chocolate                   fruity                      caramel                     peanutyalmondy              nougat                      crispedricewafer            hard                        bar                         pluribus                    sugarpercent                pricepercent                winpercent                  \n",
      "Warheads                    0.0                         1.0                         0.0                         0.0                         0.0                         0.0                         1.0                         0.0                         0.0                         0.093000002                 0.116                       39.011898                   \n",
      "Welch's Fruit Snacks        0.0                         1.0                         0.0                         0.0                         0.0                         0.0                         0.0                         0.0                         1.0                         0.31299999                  0.31299999                  44.375519                   \n",
      "Werther's Original Caramel  0.0                         0.0                         1.0                         0.0                         0.0                         0.0                         1.0                         0.0                         0.0                         0.186                       0.26699999                  41.904308                   \n",
      "Whoppers                    1.0                         0.0                         0.0                         0.0                         0.0                         1.0                         0.0                         0.0                         1.0                         0.87199998                  0.84799999                  49.524113                   \n",
      "\n"
     ]
    }
   ],
   "source": [
    "import tabletools as tt\n",
    "\n",
    "candy_table = tt.read_csv('candy-data.csv')            \n",
    "candy_tail = candy_table.tail(4)\n",
    "print(\"Last 4 Rows of Data: \\n=========================\")\n",
    "print(candy_tail)"
   ]
  },
  {
   "cell_type": "code",
   "execution_count": 2,
   "metadata": {},
   "outputs": [
    {
     "name": "stdout",
     "output_type": "stream",
     "text": [
      "Candy name, is chocolate, is peanuty/almondy, and win pct IF is chocolate\n",
      "==========================================================================\n",
      "                             chocolate                    peanutyalmondy               winpercent                   \n",
      "100 Grand                    1.0                          0.0                          66.971725                    \n",
      "3 Musketeers                 1.0                          0.0                          67.602936                    \n",
      "Almond Joy                   1.0                          1.0                          50.347546                    \n",
      "Baby Ruth                    1.0                          1.0                          56.914547                    \n",
      "Charleston Chew              1.0                          0.0                          38.975037                    \n",
      "Hershey's Kisses             1.0                          0.0                          55.375454                    \n",
      "Hershey's Krackel            1.0                          0.0                          62.284481                    \n",
      "Hershey's Milk Chocolate     1.0                          0.0                          56.490501                    \n",
      "Hershey's Special Dark       1.0                          0.0                          59.236122                    \n",
      "Junior Mints                 1.0                          0.0                          57.21925                     \n",
      "Kit Kat                      1.0                          0.0                          76.7686                      \n",
      "Peanut butter M&M's          1.0                          1.0                          71.46505                     \n",
      "M&M's                        1.0                          0.0                          66.574585                    \n",
      "Milk Duds                    1.0                          0.0                          55.064072                    \n",
      "Milky Way                    1.0                          0.0                          73.099556                    \n",
      "Milky Way Midnight           1.0                          0.0                          60.800701                    \n",
      "Milky Way Simply Caramel     1.0                          0.0                          64.35334                     \n",
      "Mounds                       1.0                          0.0                          47.829754                    \n",
      "Mr Good Bar                  1.0                          1.0                          54.526451                    \n",
      "Nestle Butterfinger          1.0                          1.0                          70.735641                    \n",
      "Nestle Crunch                1.0                          0.0                          66.47068                     \n",
      "Peanut M&Ms                  1.0                          1.0                          69.483788                    \n",
      "Reese's Miniatures           1.0                          1.0                          81.866257                    \n",
      "Reese's Peanut Butter cup    1.0                          1.0                          84.18029                     \n",
      "Reese's pieces               1.0                          1.0                          73.43499                     \n",
      "Reese's stuffed with pieces  1.0                          1.0                          72.887901                    \n",
      "Rolo                         1.0                          0.0                          65.716286                    \n",
      "Sixlets                      1.0                          0.0                          34.722                       \n",
      "Nestle Smarties              1.0                          0.0                          37.887188                    \n",
      "Snickers                     1.0                          1.0                          76.673782                    \n",
      "Snickers Crisper             1.0                          1.0                          59.529251                    \n",
      "Tootsie Pop                  1.0                          0.0                          48.982651                    \n",
      "Tootsie Roll Juniors         1.0                          0.0                          43.068897                    \n",
      "Tootsie Roll Midgies         1.0                          0.0                          45.736748                    \n",
      "Tootsie Roll Snack Bars      1.0                          0.0                          49.653503                    \n",
      "Twix                         1.0                          0.0                          81.642914                    \n",
      "Whoppers                     1.0                          0.0                          49.524113                    \n",
      "\n"
     ]
    }
   ],
   "source": [
    "candy_table2 = candy_table[['chocolate', 'peanutyalmondy', 'winpercent']]\n",
    "bool_filter = [True if i==1 else False for i in candy_table['chocolate']]\n",
    "candy_table2 = candy_table2[bool_filter]\n",
    "print(\"\"\"Candy name, is chocolate, is peanuty/almondy, and win pct IF is chocolate\n",
    "==========================================================================\"\"\")\n",
    "print(candy_table2)"
   ]
  },
  {
   "cell_type": "code",
   "execution_count": 3,
   "metadata": {},
   "outputs": [
    {
     "name": "stdout",
     "output_type": "stream",
     "text": [
      "Same as above but only include if is chocolate AND is peanuty/almondy\n",
      "=====================================================================\n",
      "                             chocolate                    peanutyalmondy               winpercent                   \n",
      "Almond Joy                   1.0                          1.0                          50.347546                    \n",
      "Baby Ruth                    1.0                          1.0                          56.914547                    \n",
      "Peanut butter M&M's          1.0                          1.0                          71.46505                     \n",
      "Mr Good Bar                  1.0                          1.0                          54.526451                    \n",
      "Nestle Butterfinger          1.0                          1.0                          70.735641                    \n",
      "Peanut M&Ms                  1.0                          1.0                          69.483788                    \n",
      "Reese's Miniatures           1.0                          1.0                          81.866257                    \n",
      "Reese's Peanut Butter cup    1.0                          1.0                          84.18029                     \n",
      "Reese's pieces               1.0                          1.0                          73.43499                     \n",
      "Reese's stuffed with pieces  1.0                          1.0                          72.887901                    \n",
      "Snickers                     1.0                          1.0                          76.673782                    \n",
      "Snickers Crisper             1.0                          1.0                          59.529251                    \n",
      "\n"
     ]
    }
   ],
   "source": [
    "bool_filter = [True if i==1 else False for i in candy_table2['peanutyalmondy']]\n",
    "candy_table3 = candy_table2[bool_filter]\n",
    "print(\"\"\"Same as above but only include if is chocolate AND is peanuty/almondy\n",
    "=====================================================================\"\"\")\n",
    "print(candy_table3)"
   ]
  },
  {
   "cell_type": "code",
   "execution_count": 4,
   "metadata": {},
   "outputs": [
    {
     "name": "stdout",
     "output_type": "stream",
     "text": [
      "Losing candies that were chocolate and peanuty/almondy - there are none!\n",
      "=======================================================================\n",
      "                chocolate       peanutyalmondy  winpercent      \n",
      "\n"
     ]
    }
   ],
   "source": [
    "bool_filter = [True if i<50 else False for i in candy_table3['winpercent']]\n",
    "candy_table4 = candy_table3[bool_filter]\n",
    "print(\"\"\"Losing candies that were chocolate and peanuty/almondy - there are none!\n",
    "=======================================================================\"\"\")\n",
    "print(candy_table4)"
   ]
  },
  {
   "cell_type": "code",
   "execution_count": 6,
   "metadata": {},
   "outputs": [
    {
     "name": "stdout",
     "output_type": "stream",
     "text": [
      "All candies whose name starts with 'Reese'\n",
      "===========================================\n",
      "                             chocolate                    fruity                       caramel                      peanutyalmondy               nougat                       crispedricewafer             hard                         bar                          pluribus                     sugarpercent                 pricepercent                 winpercent                   \n",
      "Reese's Miniatures           1.0                          0.0                          0.0                          1.0                          0.0                          0.0                          0.0                          0.0                          0.0                          0.034000002                  0.27900001                   81.866257                    \n",
      "Reese's Peanut Butter cup    1.0                          0.0                          0.0                          1.0                          0.0                          0.0                          0.0                          0.0                          0.0                          0.72000003                   0.65100002                   84.18029                     \n",
      "Reese's pieces               1.0                          0.0                          0.0                          1.0                          0.0                          0.0                          0.0                          0.0                          1.0                          0.40599999                   0.65100002                   73.43499                     \n",
      "Reese's stuffed with pieces  1.0                          0.0                          0.0                          1.0                          0.0                          0.0                          0.0                          0.0                          0.0                          0.98799998                   0.65100002                   72.887901                    \n",
      "\n"
     ]
    }
   ],
   "source": [
    "bool_filter = [(lambda x: x[:5] == 'Reese')(x) for x in candy_table.index]\n",
    "candy_table5 = candy_table[bool_filter]\n",
    "print(\"\"\"All candies whose name starts with 'Reese'\n",
    "===========================================\"\"\")\n",
    "print(candy_table5)"
   ]
  },
  {
   "cell_type": "code",
   "execution_count": 7,
   "metadata": {},
   "outputs": [
    {
     "name": "stdout",
     "output_type": "stream",
     "text": [
      "Candies whose name is less than 10 characters\n",
      "==================================================\n",
      "                  chocolate         fruity            caramel           peanutyalmondy    nougat            crispedricewafer  hard              bar               pluribus          sugarpercent      pricepercent      winpercent        \n",
      "100 Grand         1.0               0.0               1.0               0.0               0.0               1.0               0.0               1.0               0.0               0.73199999        0.86000001        66.971725         \n",
      "One dime          0.0               0.0               0.0               0.0               0.0               0.0               0.0               0.0               0.0               0.011             0.116             32.261086         \n",
      "Air Heads         0.0               1.0               0.0               0.0               0.0               0.0               0.0               0.0               0.0               0.90600002        0.51099998        52.341465         \n",
      "Baby Ruth         1.0               0.0               1.0               1.0               1.0               0.0               0.0               1.0               0.0               0.60399997        0.76700002        56.914547         \n",
      "Chiclets          0.0               1.0               0.0               0.0               0.0               0.0               0.0               0.0               1.0               0.046             0.32499999        24.524988         \n",
      "Dots              0.0               1.0               0.0               0.0               0.0               0.0               0.0               0.0               1.0               0.73199999        0.51099998        42.272076         \n",
      "Dum Dums          0.0               1.0               0.0               0.0               0.0               0.0               1.0               0.0               0.0               0.73199999        0.034000002       39.460556         \n",
      "Fun Dip           0.0               1.0               0.0               0.0               0.0               0.0               1.0               0.0               0.0               0.73199999        0.32499999        39.185505         \n",
      "Kit Kat           1.0               0.0               0.0               0.0               0.0               1.0               0.0               1.0               0.0               0.31299999        0.51099998        76.7686           \n",
      "Lemonhead         0.0               1.0               0.0               0.0               0.0               0.0               1.0               0.0               0.0               0.046             0.104             39.141056         \n",
      "M&M's             1.0               0.0               0.0               0.0               0.0               0.0               0.0               0.0               1.0               0.82499999        0.65100002        66.574585         \n",
      "Milk Duds         1.0               0.0               1.0               0.0               0.0               0.0               0.0               0.0               1.0               0.30199999        0.51099998        55.064072         \n",
      "Milky Way         1.0               0.0               1.0               0.0               1.0               0.0               0.0               1.0               0.0               0.60399997        0.65100002        73.099556         \n",
      "Mounds            1.0               0.0               0.0               0.0               0.0               0.0               0.0               1.0               0.0               0.31299999        0.86000001        47.829754         \n",
      "Nerds             0.0               1.0               0.0               0.0               0.0               0.0               1.0               0.0               1.0               0.84799999        0.32499999        55.354046         \n",
      "Nik L Nip         0.0               1.0               0.0               0.0               0.0               0.0               0.0               0.0               1.0               0.197             0.97600001        22.445341         \n",
      "Payday            0.0               0.0               0.0               1.0               1.0               0.0               0.0               1.0               0.0               0.465             0.76700002        46.296597         \n",
      "Pop Rocks         0.0               1.0               0.0               0.0               0.0               0.0               1.0               0.0               1.0               0.60399997        0.83700001        41.265511         \n",
      "Red vines         0.0               1.0               0.0               0.0               0.0               0.0               0.0               0.0               1.0               0.58099997        0.116             37.348522         \n",
      "Ring pop          0.0               1.0               0.0               0.0               0.0               0.0               1.0               0.0               0.0               0.73199999        0.96499997        35.290756         \n",
      "Rolo              1.0               0.0               1.0               0.0               0.0               0.0               0.0               0.0               1.0               0.86000001        0.86000001        65.716286         \n",
      "Runts             0.0               1.0               0.0               0.0               0.0               0.0               1.0               0.0               1.0               0.87199998        0.27900001        42.849144         \n",
      "Sixlets           1.0               0.0               0.0               0.0               0.0               0.0               0.0               0.0               1.0               0.22              0.081             34.722            \n",
      "Snickers          1.0               0.0               1.0               1.0               1.0               0.0               0.0               1.0               0.0               0.546             0.65100002        76.673782         \n",
      "Starburst         0.0               1.0               0.0               0.0               0.0               0.0               0.0               0.0               1.0               0.15099999        0.22              67.037628         \n",
      "Twix              1.0               0.0               1.0               0.0               0.0               1.0               0.0               1.0               0.0               0.546             0.90600002        81.642914         \n",
      "Twizzlers         0.0               1.0               0.0               0.0               0.0               0.0               0.0               0.0               0.0               0.22              0.116             45.466282         \n",
      "Warheads          0.0               1.0               0.0               0.0               0.0               0.0               1.0               0.0               0.0               0.093000002       0.116             39.011898         \n",
      "Whoppers          1.0               0.0               0.0               0.0               0.0               1.0               0.0               0.0               1.0               0.87199998        0.84799999        49.524113         \n",
      "\n"
     ]
    }
   ],
   "source": [
    "bool_filter = [(lambda x: len(x) < 10)(x) for x in candy_table.index]\n",
    "candy_table6 = candy_table[bool_filter]\n",
    "print(\"\"\"Candies whose name is less than 10 characters\n",
    "==================================================\"\"\")\n",
    "print(candy_table6)"
   ]
  },
  {
   "cell_type": "code",
   "execution_count": null,
   "metadata": {},
   "outputs": [],
   "source": []
  }
 ],
 "metadata": {
  "kernelspec": {
   "display_name": "Python 3",
   "language": "python",
   "name": "python3"
  },
  "language_info": {
   "codemirror_mode": {
    "name": "ipython",
    "version": 3
   },
   "file_extension": ".py",
   "mimetype": "text/x-python",
   "name": "python",
   "nbconvert_exporter": "python",
   "pygments_lexer": "ipython3",
   "version": "3.6.5"
  }
 },
 "nbformat": 4,
 "nbformat_minor": 2
}
